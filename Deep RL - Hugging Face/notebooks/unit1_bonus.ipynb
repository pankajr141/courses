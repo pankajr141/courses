{
  "cells": [
    {
      "cell_type": "markdown",
      "metadata": {
        "id": "view-in-github",
        "colab_type": "text"
      },
      "source": [
        "<a href=\"https://colab.research.google.com/github/pankajr141/courses/blob/main/Deep%20RL%20-%20Hugging%20Face/notebooks/unit1_bonus.ipynb\" target=\"_parent\"><img src=\"https://colab.research.google.com/assets/colab-badge.svg\" alt=\"Open In Colab\"/></a>"
      ]
    },
    {
      "cell_type": "markdown",
      "metadata": {
        "id": "2D3NL_e4crQv"
      },
      "source": [
        "# Bonus Unit 1: Let's train Huggy the Dog 🐶 to fetch a stick"
      ]
    },
    {
      "cell_type": "markdown",
      "source": [
        "<img src=\"https://huggingface.co/datasets/huggingface-deep-rl-course/course-images/resolve/main/en/unit2/thumbnail.png\" alt=\"Bonus Unit 1Thumbnail\">\n",
        "\n",
        "In this notebook, we'll reinforce what we learned in the first Unit by **teaching Huggy the Dog to fetch the stick and then play with it directly in your browser**\n",
        "\n",
        "⬇️ Here is an example of what **you will achieve at the end of the unit.** ⬇️ (launch ▶ to see)"
      ],
      "metadata": {
        "id": "FMYrDriDujzX"
      }
    },
    {
      "cell_type": "code",
      "source": [
        "%%html\n",
        "<video controls autoplay><source src=\"https://huggingface.co/datasets/huggingface-deep-rl-course/course-images/resolve/main/en/notebooks/unit-bonus1/huggy.mp4\" type=\"video/mp4\"></video>"
      ],
      "metadata": {
        "id": "PnVhs1yYNyUF",
        "colab": {
          "base_uri": "https://localhost:8080/",
          "height": 741
        },
        "outputId": "358cca48-a2eb-4aad-9397-45bd57597ded"
      },
      "execution_count": 1,
      "outputs": [
        {
          "output_type": "display_data",
          "data": {
            "text/plain": [
              "<IPython.core.display.HTML object>"
            ],
            "text/html": [
              "<video controls autoplay><source src=\"https://huggingface.co/datasets/huggingface-deep-rl-course/course-images/resolve/main/en/notebooks/unit-bonus1/huggy.mp4\" type=\"video/mp4\"></video>\n"
            ]
          },
          "metadata": {}
        }
      ]
    },
    {
      "cell_type": "markdown",
      "source": [
        "### The environment 🎮\n",
        "\n",
        "- Huggy the Dog, an environment created by [Thomas Simonini](https://twitter.com/ThomasSimonini) based on [Puppo The Corgi](https://blog.unity.com/technology/puppo-the-corgi-cuteness-overload-with-the-unity-ml-agents-toolkit)\n",
        "\n",
        "### The library used 📚\n",
        "\n",
        "- [MLAgents](https://github.com/Unity-Technologies/ml-agents)"
      ],
      "metadata": {
        "id": "x7oR6R-ZIbeS"
      }
    },
    {
      "cell_type": "markdown",
      "source": [
        "We're constantly trying to improve our tutorials, so **if you find some issues in this notebook**, please [open an issue on the Github Repo](https://github.com/huggingface/deep-rl-class/issues)."
      ],
      "metadata": {
        "id": "60yACvZwO0Cy"
      }
    },
    {
      "cell_type": "markdown",
      "source": [
        "## Objectives of this notebook 🏆\n",
        "\n",
        "At the end of the notebook, you will:\n",
        "\n",
        "- Understand **the state space, action space and reward function used to train Huggy**.\n",
        "- **Train your own Huggy** to fetch the stick.\n",
        "- Be able to play **with your trained Huggy directly in your browser**.\n",
        "\n",
        "\n"
      ],
      "metadata": {
        "id": "Oks-ETYdO2Dc"
      }
    },
    {
      "cell_type": "markdown",
      "source": [
        "## This notebook is from Deep Reinforcement Learning Course\n",
        "<img src=\"https://huggingface.co/datasets/huggingface-deep-rl-course/course-images/resolve/main/en/notebooks/deep-rl-course-illustration.jpg\" alt=\"Deep RL Course illustration\"/>"
      ],
      "metadata": {
        "id": "mUlVrqnBv2o1"
      }
    },
    {
      "cell_type": "markdown",
      "source": [
        "In this free course, you will:\n",
        "\n",
        "- 📖 Study Deep Reinforcement Learning in **theory and practice**.\n",
        "- 🧑‍💻 Learn to **use famous Deep RL libraries** such as Stable Baselines3, RL Baselines3 Zoo, CleanRL and Sample Factory 2.0.\n",
        "- 🤖 Train **agents in unique environments**\n",
        "\n",
        "And more check 📚 the syllabus 👉 https://simoninithomas.github.io/deep-rl-course\n",
        "\n",
        "Don’t forget to **<a href=\"http://eepurl.com/ic5ZUD\">sign up to the course</a>** (we are collecting your email to be able to **send you the links when each Unit is published and give you information about the challenges and updates).**\n",
        "\n",
        "\n",
        "The best way to keep in touch is to join our discord server to exchange with the community and with us 👉🏻 https://discord.gg/ydHrjt3WP5"
      ],
      "metadata": {
        "id": "pAMjaQpHwB_s"
      }
    },
    {
      "cell_type": "markdown",
      "source": [
        "## Prerequisites 🏗️\n",
        "\n",
        "Before diving into the notebook, you need to:\n",
        "\n",
        "🔲 📚 **Develop an understanding of the foundations of Reinforcement learning** (MC, TD, Rewards hypothesis...) by doing Unit 1\n",
        "\n",
        "🔲 📚 **Read the introduction to Huggy** by doing Bonus Unit 1"
      ],
      "metadata": {
        "id": "6r7Hl0uywFSO"
      }
    },
    {
      "cell_type": "markdown",
      "source": [
        "## Set the GPU 💪\n",
        "- To **accelerate the agent's training, we'll use a GPU**. To do that, go to `Runtime > Change Runtime type`\n",
        "\n",
        "<img src=\"https://huggingface.co/datasets/huggingface-deep-rl-course/course-images/resolve/main/en/notebooks/gpu-step1.jpg\" alt=\"GPU Step 1\">"
      ],
      "metadata": {
        "id": "DssdIjk_8vZE"
      }
    },
    {
      "cell_type": "markdown",
      "source": [
        "- `Hardware Accelerator > GPU`\n",
        "\n",
        "<img src=\"https://huggingface.co/datasets/huggingface-deep-rl-course/course-images/resolve/main/en/notebooks/gpu-step2.jpg\" alt=\"GPU Step 2\">"
      ],
      "metadata": {
        "id": "sTfCXHy68xBv"
      }
    },
    {
      "cell_type": "markdown",
      "metadata": {
        "id": "an3ByrXYQ4iK"
      },
      "source": [
        "## Clone the repository and install the dependencies 🔽\n",
        "\n",
        "- We need to clone the repository, that contains **ML-Agents.**"
      ]
    },
    {
      "cell_type": "code",
      "source": [
        "import warnings\n",
        "warnings.filterwarnings('ignore')"
      ],
      "metadata": {
        "id": "21FfJYkppSAL"
      },
      "execution_count": 4,
      "outputs": []
    },
    {
      "cell_type": "code",
      "execution_count": 2,
      "metadata": {
        "id": "6WNoL04M7rTa"
      },
      "outputs": [],
      "source": [
        "%%capture\n",
        "# Clone the repository (can take 3min)\n",
        "!git clone --depth 1 https://github.com/Unity-Technologies/ml-agents"
      ]
    },
    {
      "cell_type": "code",
      "execution_count": 3,
      "metadata": {
        "id": "d8wmVcMk7xKo"
      },
      "outputs": [],
      "source": [
        "%%capture\n",
        "# Go inside the repository and install the package (can take 3min)\n",
        "%cd ml-agents\n",
        "!pip3 install -e ./ml-agents-envs\n",
        "!pip3 install -e ./ml-agents"
      ]
    },
    {
      "cell_type": "markdown",
      "metadata": {
        "id": "HRY5ufKUKfhI"
      },
      "source": [
        "## Download and move the environment zip file in `./trained-envs-executables/linux/`\n",
        "\n",
        "- Our environment executable is in a zip file.\n",
        "- We need to download it and place it to `./trained-envs-executables/linux/`"
      ]
    },
    {
      "cell_type": "code",
      "execution_count": 5,
      "metadata": {
        "id": "C9Ls6_6eOKiA"
      },
      "outputs": [],
      "source": [
        "!mkdir ./trained-envs-executables\n",
        "!mkdir ./trained-envs-executables/linux"
      ]
    },
    {
      "cell_type": "markdown",
      "source": [
        "We downloaded the file Huggy.zip from https://github.com/huggingface/Huggy using `wget`"
      ],
      "metadata": {
        "id": "IHh_LXsRrrbM"
      }
    },
    {
      "cell_type": "code",
      "source": [
        "!wget \"https://github.com/huggingface/Huggy/raw/main/Huggy.zip\" -O ./trained-envs-executables/linux/Huggy.zip"
      ],
      "metadata": {
        "id": "8xNAD1tRpy0_",
        "colab": {
          "base_uri": "https://localhost:8080/"
        },
        "outputId": "7935c080-4fc8-461c-d879-f728e1eb732c"
      },
      "execution_count": 6,
      "outputs": [
        {
          "output_type": "stream",
          "name": "stdout",
          "text": [
            "--2025-01-10 14:37:05--  https://github.com/huggingface/Huggy/raw/main/Huggy.zip\n",
            "Resolving github.com (github.com)... 140.82.121.4\n",
            "Connecting to github.com (github.com)|140.82.121.4|:443... connected.\n",
            "HTTP request sent, awaiting response... 302 Found\n",
            "Location: https://media.githubusercontent.com/media/huggingface/Huggy/main/Huggy.zip [following]\n",
            "--2025-01-10 14:37:05--  https://media.githubusercontent.com/media/huggingface/Huggy/main/Huggy.zip\n",
            "Resolving media.githubusercontent.com (media.githubusercontent.com)... 185.199.108.133, 185.199.109.133, 185.199.110.133, ...\n",
            "Connecting to media.githubusercontent.com (media.githubusercontent.com)|185.199.108.133|:443... connected.\n",
            "HTTP request sent, awaiting response... 200 OK\n",
            "Length: 39214997 (37M) [application/zip]\n",
            "Saving to: ‘./trained-envs-executables/linux/Huggy.zip’\n",
            "\n",
            "./trained-envs-exec 100%[===================>]  37.40M  --.-KB/s    in 0.1s    \n",
            "\n",
            "2025-01-10 14:37:06 (314 MB/s) - ‘./trained-envs-executables/linux/Huggy.zip’ saved [39214997/39214997]\n",
            "\n"
          ]
        }
      ]
    },
    {
      "cell_type": "code",
      "execution_count": 7,
      "metadata": {
        "id": "8FPx0an9IAwO"
      },
      "outputs": [],
      "source": [
        "%%capture\n",
        "!unzip -d ./trained-envs-executables/linux/ ./trained-envs-executables/linux/Huggy.zip"
      ]
    },
    {
      "cell_type": "markdown",
      "metadata": {
        "id": "nyumV5XfPKzu"
      },
      "source": [
        "Make sure your file is accessible"
      ]
    },
    {
      "cell_type": "code",
      "execution_count": 8,
      "metadata": {
        "id": "EdFsLJ11JvQf"
      },
      "outputs": [],
      "source": [
        "!chmod -R 755 ./trained-envs-executables/linux/Huggy"
      ]
    },
    {
      "cell_type": "markdown",
      "source": [
        "## Let's recap how this environment works\n",
        "\n",
        "### The State Space: what Huggy \"perceives.\"\n",
        "\n",
        "Huggy doesn't \"see\" his environment. Instead, we provide him information about the environment:\n",
        "\n",
        "- The target (stick) position\n",
        "- The relative position between himself and the target\n",
        "- The orientation of his legs.\n",
        "\n",
        "Given all this information, Huggy **can decide which action to take next to fulfill his goal**.\n",
        "\n",
        "<img src=\"https://huggingface.co/datasets/huggingface-deep-rl-course/course-images/resolve/main/en/notebooks/unit-bonus1/huggy.jpg\" alt=\"Huggy\" width=\"100%\">\n",
        "\n",
        "\n",
        "### The Action Space: what moves Huggy can do\n",
        "<img src=\"https://huggingface.co/datasets/huggingface-deep-rl-course/course-images/resolve/main/en/notebooks/unit-bonus1/huggy-action.jpg\" alt=\"Huggy action\" width=\"100%\">\n",
        "\n",
        "**Joint motors drive huggy legs**. It means that to get the target, Huggy needs to **learn to rotate the joint motors of each of his legs correctly so he can move**.\n",
        "\n",
        "### The Reward Function\n",
        "\n",
        "The reward function is designed so that **Huggy will fulfill his goal** : fetch the stick.\n",
        "\n",
        "Remember that one of the foundations of Reinforcement Learning is the *reward hypothesis*: a goal can be described as the **maximization of the expected cumulative reward**.\n",
        "\n",
        "Here, our goal is that Huggy **goes towards the stick but without spinning too much**. Hence, our reward function must translate this goal.\n",
        "\n",
        "Our reward function:\n",
        "\n",
        "<img src=\"https://huggingface.co/datasets/huggingface-deep-rl-course/course-images/resolve/main/en/notebooks/unit-bonus1/reward.jpg\" alt=\"Huggy reward function\" width=\"100%\">\n",
        "\n",
        "- *Orientation bonus*: we **reward him for getting close to the target**.\n",
        "- *Time penalty*: a fixed-time penalty given at every action to **force him to get to the stick as fast as possible**.\n",
        "- *Rotation penalty*: we penalize Huggy if **he spins too much and turns too quickly**.\n",
        "- *Getting to the target reward*: we reward Huggy for **reaching the target**."
      ],
      "metadata": {
        "id": "dYKVj8yUvj55"
      }
    },
    {
      "cell_type": "markdown",
      "source": [
        "## Create the Huggy config file\n",
        "\n",
        "- In ML-Agents, you define the **training hyperparameters into config.yaml files.**\n",
        "\n",
        "- For the scope of this notebook, we're not going to modify the hyperparameters, but if you want to try as an experiment, you should also try to modify some other hyperparameters, Unity provides very [good documentation explaining each of them here](https://github.com/Unity-Technologies/ml-agents/blob/main/docs/Training-Configuration-File.md).\n",
        "\n",
        "- But we need to create a config file for Huggy.\n",
        "\n",
        "  - To do that click on Folder logo on the left of your screen.\n",
        "\n",
        "  <img src=\"https://huggingface.co/datasets/huggingface-deep-rl-course/course-images/resolve/main/en/unit1/create_file.png\" alt=\"Create file\" width=\"10%\">\n",
        "\n",
        "  - Go to `/content/ml-agents/config/ppo`\n",
        "  - Right mouse click and create a new file called `Huggy.yaml`\n",
        "\n",
        "  <img src=\"https://huggingface.co/datasets/huggingface-deep-rl-course/course-images/resolve/main/en/unit1/create-huggy.png\" alt=\"Create huggy.yaml\" width=\"20%\">\n",
        "\n",
        "- Copy and paste the content below 🔽"
      ],
      "metadata": {
        "id": "NAuEq32Mwvtz"
      }
    },
    {
      "cell_type": "code",
      "source": [
        "# behaviors:\n",
        "#   Huggy:\n",
        "#     trainer_type: ppo\n",
        "#     hyperparameters:\n",
        "#       batch_size: 2048\n",
        "#       buffer_size: 20480\n",
        "#       learning_rate: 0.0003\n",
        "#       beta: 0.005\n",
        "#       epsilon: 0.2\n",
        "#       lambd: 0.95\n",
        "#       num_epoch: 3\n",
        "#       learning_rate_schedule: linear\n",
        "#     network_settings:\n",
        "#       normalize: true\n",
        "#       hidden_units: 512\n",
        "#       num_layers: 3\n",
        "#       vis_encode_type: simple\n",
        "#     reward_signals:\n",
        "#       extrinsic:\n",
        "#         gamma: 0.995\n",
        "#         strength: 1.0\n",
        "#     checkpoint_interval: 200000\n",
        "#     keep_checkpoints: 15\n",
        "#     max_steps: 2e6\n",
        "#     time_horizon: 1000\n",
        "#     summary_freq: 50000"
      ],
      "metadata": {
        "id": "loQ0N5jhXW71"
      },
      "execution_count": null,
      "outputs": []
    },
    {
      "cell_type": "markdown",
      "source": [
        "- Don't forget to save the file!"
      ],
      "metadata": {
        "id": "oakN7UHwXdCX"
      }
    },
    {
      "cell_type": "markdown",
      "source": [
        "- **In the case you want to modify the hyperparameters**, in Google Colab notebook, you can click here to open the config.yaml: `/content/ml-agents/config/ppo/Huggy.yaml`\n",
        "\n",
        "- For instance **if you want to save more models during the training** (for now, we save every 200,000 training timesteps). You need to modify:\n",
        "  - `checkpoint_interval`: The number of training timesteps collected between each checkpoint.\n",
        "  - `keep_checkpoints`: The maximum number of model checkpoints to keep.\n",
        "\n",
        "=> Just keep in mind that **decreasing the `checkpoint_interval` means more models to upload to the Hub and so a longer uploading time**\n",
        "We’re now ready to train our agent 🔥."
      ],
      "metadata": {
        "id": "r9wv5NYGw-05"
      }
    },
    {
      "cell_type": "markdown",
      "metadata": {
        "id": "f9fI555bO12v"
      },
      "source": [
        "## Train our agent\n",
        "\n",
        "To train our agent, we just need to **launch mlagents-learn and select the executable containing the environment.**\n",
        "\n",
        "<img src=\"https://huggingface.co/datasets/huggingface-deep-rl-course/course-images/resolve/main/en/notebooks/unit-bonus1/mllearn.png\" alt=\"ml learn function\" width=\"100%\">\n",
        "\n",
        "With ML Agents, we run a training script. We define four parameters:\n",
        "\n",
        "1. `mlagents-learn <config>`: the path where the hyperparameter config file is.\n",
        "2. `--env`: where the environment executable is.\n",
        "3. `--run-id`: the name you want to give to your training run id.\n",
        "4. `--no-graphics`: to not launch the visualization during the training.\n",
        "\n",
        "Train the model and use the `--resume` flag to continue training in case of interruption.\n",
        "\n",
        "> It will fail first time when you use `--resume`, try running the block again to bypass the error.\n",
        "\n"
      ]
    },
    {
      "cell_type": "markdown",
      "source": [
        "The training will take 30 to 45min depending on your machine (don't forget to **set up a GPU**), go take a ☕️you deserve it 🤗."
      ],
      "metadata": {
        "id": "lN32oWF8zPjs"
      }
    },
    {
      "cell_type": "code",
      "execution_count": 9,
      "metadata": {
        "id": "bS-Yh1UdHfzy",
        "colab": {
          "base_uri": "https://localhost:8080/"
        },
        "outputId": "a7a6a024-a61a-4b38-c914-57e61032daf8"
      },
      "outputs": [
        {
          "output_type": "stream",
          "name": "stdout",
          "text": [
            "2025-01-10 14:40:38.610092: E external/local_xla/xla/stream_executor/cuda/cuda_fft.cc:485] Unable to register cuFFT factory: Attempting to register factory for plugin cuFFT when one has already been registered\n",
            "2025-01-10 14:40:38.630819: E external/local_xla/xla/stream_executor/cuda/cuda_dnn.cc:8454] Unable to register cuDNN factory: Attempting to register factory for plugin cuDNN when one has already been registered\n",
            "2025-01-10 14:40:38.637125: E external/local_xla/xla/stream_executor/cuda/cuda_blas.cc:1452] Unable to register cuBLAS factory: Attempting to register factory for plugin cuBLAS when one has already been registered\n",
            "2025-01-10 14:40:38.651855: I tensorflow/core/platform/cpu_feature_guard.cc:210] This TensorFlow binary is optimized to use available CPU instructions in performance-critical operations.\n",
            "To enable the following instructions: AVX2 AVX512F FMA, in other operations, rebuild TensorFlow with the appropriate compiler flags.\n",
            "2025-01-10 14:40:39.946434: W tensorflow/compiler/tf2tensorrt/utils/py_utils.cc:38] TF-TRT Warning: Could not find TensorRT\n",
            "\n",
            "            ┐  ╖\n",
            "        ╓╖╬│╡  ││╬╖╖\n",
            "    ╓╖╬│││││┘  ╬│││││╬╖\n",
            " ╖╬│││││╬╜        ╙╬│││││╖╖                               ╗╗╗\n",
            " ╬╬╬╬╖││╦╖        ╖╬││╗╣╣╣╬      ╟╣╣╬    ╟╣╣╣             ╜╜╜  ╟╣╣\n",
            " ╬╬╬╬╬╬╬╬╖│╬╖╖╓╬╪│╓╣╣╣╣╣╣╣╬      ╟╣╣╬    ╟╣╣╣ ╒╣╣╖╗╣╣╣╗   ╣╣╣ ╣╣╣╣╣╣ ╟╣╣╖   ╣╣╣\n",
            " ╬╬╬╬┐  ╙╬╬╬╬│╓╣╣╣╝╜  ╫╣╣╣╬      ╟╣╣╬    ╟╣╣╣ ╟╣╣╣╙ ╙╣╣╣  ╣╣╣ ╙╟╣╣╜╙  ╫╣╣  ╟╣╣\n",
            " ╬╬╬╬┐     ╙╬╬╣╣      ╫╣╣╣╬      ╟╣╣╬    ╟╣╣╣ ╟╣╣╬   ╣╣╣  ╣╣╣  ╟╣╣     ╣╣╣┌╣╣╜\n",
            " ╬╬╬╜       ╬╬╣╣      ╙╝╣╣╬      ╙╣╣╣╗╖╓╗╣╣╣╜ ╟╣╣╬   ╣╣╣  ╣╣╣  ╟╣╣╦╓    ╣╣╣╣╣\n",
            " ╙   ╓╦╖    ╬╬╣╣   ╓╗╗╖            ╙╝╣╣╣╣╝╜   ╘╝╝╜   ╝╝╝  ╝╝╝   ╙╣╣╣    ╟╣╣╣\n",
            "   ╩╬╬╬╬╬╬╦╦╬╬╣╣╗╣╣╣╣╣╣╣╝                                             ╫╣╣╣╣\n",
            "      ╙╬╬╬╬╬╬╬╣╣╣╣╣╣╝╜\n",
            "          ╙╬╬╬╣╣╣╜\n",
            "             ╙\n",
            "        \n",
            " Version information:\n",
            "  ml-agents: 1.2.0.dev0,\n",
            "  ml-agents-envs: 1.2.0.dev0,\n",
            "  Communicator API: 1.5.0,\n",
            "  PyTorch: 2.5.1+cu121\n",
            "[INFO] Connected to Unity environment with package version 2.2.1-exp.1 and communication version 1.5.0\n",
            "[INFO] Connected new brain: Huggy?team=0\n",
            "[INFO] Hyperparameters for behavior name Huggy: \n",
            "\ttrainer_type:\tppo\n",
            "\thyperparameters:\t\n",
            "\t  batch_size:\t2048\n",
            "\t  buffer_size:\t20480\n",
            "\t  learning_rate:\t0.0003\n",
            "\t  beta:\t0.005\n",
            "\t  epsilon:\t0.2\n",
            "\t  lambd:\t0.95\n",
            "\t  num_epoch:\t3\n",
            "\t  shared_critic:\tFalse\n",
            "\t  learning_rate_schedule:\tlinear\n",
            "\t  beta_schedule:\tlinear\n",
            "\t  epsilon_schedule:\tlinear\n",
            "\tcheckpoint_interval:\t200000\n",
            "\tnetwork_settings:\t\n",
            "\t  normalize:\tTrue\n",
            "\t  hidden_units:\t512\n",
            "\t  num_layers:\t3\n",
            "\t  vis_encode_type:\tsimple\n",
            "\t  memory:\tNone\n",
            "\t  goal_conditioning_type:\thyper\n",
            "\t  deterministic:\tFalse\n",
            "\treward_signals:\t\n",
            "\t  extrinsic:\t\n",
            "\t    gamma:\t0.995\n",
            "\t    strength:\t1.0\n",
            "\t    network_settings:\t\n",
            "\t      normalize:\tFalse\n",
            "\t      hidden_units:\t128\n",
            "\t      num_layers:\t2\n",
            "\t      vis_encode_type:\tsimple\n",
            "\t      memory:\tNone\n",
            "\t      goal_conditioning_type:\thyper\n",
            "\t      deterministic:\tFalse\n",
            "\tinit_path:\tNone\n",
            "\tkeep_checkpoints:\t15\n",
            "\teven_checkpoints:\tFalse\n",
            "\tmax_steps:\t2000000\n",
            "\ttime_horizon:\t1000\n",
            "\tsummary_freq:\t50000\n",
            "\tthreaded:\tFalse\n",
            "\tself_play:\tNone\n",
            "\tbehavioral_cloning:\tNone\n",
            "[INFO] Huggy. Step: 50000. Time Elapsed: 79.616 s. Mean Reward: 1.751. Std of Reward: 1.050. Training.\n",
            "[INFO] Huggy. Step: 100000. Time Elapsed: 146.610 s. Mean Reward: 2.566. Std of Reward: 1.158. Training.\n",
            "[INFO] Huggy. Step: 150000. Time Elapsed: 212.213 s. Mean Reward: 3.068. Std of Reward: 1.298. Training.\n",
            "[INFO] Huggy. Step: 200000. Time Elapsed: 277.394 s. Mean Reward: 3.352. Std of Reward: 1.399. Training.\n",
            "[INFO] Exported results/Huggy2/Huggy/Huggy-199991.onnx\n",
            "[INFO] Huggy. Step: 250000. Time Elapsed: 352.433 s. Mean Reward: 3.406. Std of Reward: 1.421. Training.\n",
            "[INFO] Huggy. Step: 300000. Time Elapsed: 418.074 s. Mean Reward: 3.637. Std of Reward: 1.507. Training.\n",
            "[INFO] Huggy. Step: 350000. Time Elapsed: 484.601 s. Mean Reward: 3.683. Std of Reward: 1.610. Training.\n",
            "[INFO] Huggy. Step: 400000. Time Elapsed: 560.969 s. Mean Reward: 3.776. Std of Reward: 1.553. Training.\n",
            "[INFO] Exported results/Huggy2/Huggy/Huggy-399979.onnx\n",
            "[INFO] Huggy. Step: 450000. Time Elapsed: 627.486 s. Mean Reward: 3.615. Std of Reward: 1.510. Training.\n",
            "[INFO] Huggy. Step: 500000. Time Elapsed: 697.943 s. Mean Reward: 3.830. Std of Reward: 1.630. Training.\n",
            "[INFO] Huggy. Step: 550000. Time Elapsed: 765.091 s. Mean Reward: 3.846. Std of Reward: 1.578. Training.\n",
            "[INFO] Huggy. Step: 600000. Time Elapsed: 837.207 s. Mean Reward: 3.898. Std of Reward: 1.576. Training.\n",
            "[INFO] Exported results/Huggy2/Huggy/Huggy-599948.onnx\n",
            "[INFO] Huggy. Step: 650000. Time Elapsed: 907.816 s. Mean Reward: 3.878. Std of Reward: 1.839. Training.\n",
            "[INFO] Huggy. Step: 700000. Time Elapsed: 979.871 s. Mean Reward: 3.686. Std of Reward: 1.634. Training.\n",
            "[INFO] Huggy. Step: 750000. Time Elapsed: 1046.792 s. Mean Reward: 3.768. Std of Reward: 1.800. Training.\n",
            "[INFO] Huggy. Step: 800000. Time Elapsed: 1119.367 s. Mean Reward: 3.669. Std of Reward: 1.737. Training.\n",
            "[INFO] Exported results/Huggy2/Huggy/Huggy-799983.onnx\n",
            "[INFO] Huggy. Step: 850000. Time Elapsed: 1189.337 s. Mean Reward: 3.814. Std of Reward: 1.685. Training.\n",
            "[INFO] Huggy. Step: 900000. Time Elapsed: 1257.314 s. Mean Reward: 3.841. Std of Reward: 1.771. Training.\n",
            "[INFO] Huggy. Step: 950000. Time Elapsed: 1328.755 s. Mean Reward: 3.805. Std of Reward: 1.768. Training.\n",
            "[INFO] Huggy. Step: 1000000. Time Elapsed: 1398.327 s. Mean Reward: 3.787. Std of Reward: 1.872. Training.\n",
            "[INFO] Exported results/Huggy2/Huggy/Huggy-999922.onnx\n",
            "[INFO] Huggy. Step: 1050000. Time Elapsed: 1469.614 s. Mean Reward: 3.832. Std of Reward: 1.778. Training.\n",
            "[INFO] Huggy. Step: 1100000. Time Elapsed: 1542.899 s. Mean Reward: 3.731. Std of Reward: 1.807. Training.\n",
            "[INFO] Huggy. Step: 1150000. Time Elapsed: 1610.284 s. Mean Reward: 3.772. Std of Reward: 1.936. Training.\n",
            "[INFO] Huggy. Step: 1200000. Time Elapsed: 1681.135 s. Mean Reward: 3.644. Std of Reward: 1.851. Training.\n",
            "[INFO] Exported results/Huggy2/Huggy/Huggy-1199890.onnx\n",
            "[INFO] Huggy. Step: 1250000. Time Elapsed: 1746.651 s. Mean Reward: 3.552. Std of Reward: 1.904. Training.\n",
            "[INFO] Huggy. Step: 1300000. Time Elapsed: 1816.508 s. Mean Reward: 3.681. Std of Reward: 1.916. Training.\n",
            "[INFO] Huggy. Step: 1350000. Time Elapsed: 1885.241 s. Mean Reward: 3.876. Std of Reward: 1.937. Training.\n",
            "[INFO] Huggy. Step: 1400000. Time Elapsed: 1954.477 s. Mean Reward: 3.678. Std of Reward: 2.006. Training.\n",
            "[INFO] Exported results/Huggy2/Huggy/Huggy-1399982.onnx\n",
            "[INFO] Huggy. Step: 1450000. Time Elapsed: 2021.397 s. Mean Reward: 3.762. Std of Reward: 2.035. Training.\n",
            "[INFO] Huggy. Step: 1500000. Time Elapsed: 2089.121 s. Mean Reward: 3.766. Std of Reward: 2.025. Training.\n",
            "[INFO] Huggy. Step: 1550000. Time Elapsed: 2159.574 s. Mean Reward: 3.742. Std of Reward: 1.980. Training.\n",
            "[INFO] Huggy. Step: 1600000. Time Elapsed: 2225.363 s. Mean Reward: 3.732. Std of Reward: 2.023. Training.\n",
            "[INFO] Exported results/Huggy2/Huggy/Huggy-1599951.onnx\n",
            "[INFO] Huggy. Step: 1650000. Time Elapsed: 2295.856 s. Mean Reward: 3.692. Std of Reward: 1.954. Training.\n",
            "[INFO] Huggy. Step: 1700000. Time Elapsed: 2365.627 s. Mean Reward: 3.866. Std of Reward: 2.074. Training.\n",
            "[INFO] Huggy. Step: 1750000. Time Elapsed: 2434.755 s. Mean Reward: 3.707. Std of Reward: 1.971. Training.\n",
            "[INFO] Huggy. Step: 1800000. Time Elapsed: 2502.820 s. Mean Reward: 3.774. Std of Reward: 1.971. Training.\n",
            "[INFO] Exported results/Huggy2/Huggy/Huggy-1799872.onnx\n",
            "[INFO] Huggy. Step: 1850000. Time Elapsed: 2568.093 s. Mean Reward: 3.627. Std of Reward: 2.030. Training.\n",
            "[INFO] Huggy. Step: 1900000. Time Elapsed: 2640.460 s. Mean Reward: 3.818. Std of Reward: 1.945. Training.\n",
            "[INFO] Huggy. Step: 1950000. Time Elapsed: 2706.791 s. Mean Reward: 3.789. Std of Reward: 2.078. Training.\n",
            "[INFO] Huggy. Step: 2000000. Time Elapsed: 2777.393 s. Mean Reward: 3.746. Std of Reward: 1.952. Training.\n",
            "[INFO] Exported results/Huggy2/Huggy/Huggy-1999981.onnx\n",
            "[INFO] Exported results/Huggy2/Huggy/Huggy-2000001.onnx\n",
            "[INFO] Copied results/Huggy2/Huggy/Huggy-2000001.onnx to results/Huggy2/Huggy.onnx.\n"
          ]
        }
      ],
      "source": [
        "!mlagents-learn ./config/ppo/Huggy.yaml --env=./trained-envs-executables/linux/Huggy/Huggy --run-id=\"Huggy2\" --no-graphics"
      ]
    },
    {
      "cell_type": "markdown",
      "metadata": {
        "id": "5Vue94AzPy1t"
      },
      "source": [
        "## Push the agent to the 🤗 Hub\n",
        "\n",
        "- Now that we trained our agent, we’re **ready to push it to the Hub to be able to play with Huggy on your browser🔥.**"
      ]
    },
    {
      "cell_type": "markdown",
      "source": [
        "To be able to share your model with the community there are three more steps to follow:\n",
        "\n",
        "1️⃣ (If it's not already done) create an account to HF ➡ https://huggingface.co/join\n",
        "\n",
        "2️⃣ Sign in and then, you need to store your authentication token from the Hugging Face website.\n",
        "- Create a new token (https://huggingface.co/settings/tokens) **with write role**\n",
        "\n",
        "<img src=\"https://huggingface.co/datasets/huggingface-deep-rl-course/course-images/resolve/main/en/notebooks/create-token.jpg\" alt=\"Create HF Token\">\n",
        "\n",
        "- Copy the token\n",
        "- Run the cell below and paste the token"
      ],
      "metadata": {
        "id": "izT6FpgNzZ6R"
      }
    },
    {
      "cell_type": "code",
      "execution_count": 10,
      "metadata": {
        "id": "rKt2vsYoK56o",
        "colab": {
          "base_uri": "https://localhost:8080/",
          "height": 17,
          "referenced_widgets": [
            "8098bf17a6834873aef88252f33dcc12",
            "b0ce7d1ec836437898856eebdb497357",
            "b1c439aaddd74ee797e0c02923f74870",
            "37d3bd1bb43149899f30869458f382ee",
            "a5029c7d64cc462e9187135d779ff8cd",
            "1006feaba3574d38968a7491b8254f44",
            "f7cc790dbdd14b3b8e6eb681425e6bfc",
            "4542abaeab5a4da0b903acb3f5bb372c",
            "187ee5e8a6524aa9bf387de0ead73062",
            "5e3ccc705325453cbc71dd170577a802",
            "6db44b3d81ea49aa9edcb29f1e5dc481",
            "c83ad30504cc47798727359133c10346",
            "96614905c7eb481697ce255ba273f68a",
            "bdb5b8a93e2d4364a2a9a8ff918ff49f",
            "a1b0c663634244df881f93e3e4561640",
            "fd99a52ddb8c41468347f61adef3f00f",
            "9c88104224a84c2eb6dc59160bda445b",
            "803ca6b1a020434fbd514621f780b075",
            "1fa950da69fc431eba68e48f856b2f1e",
            "70f4daaeb78942998bebfcb497abc211"
          ]
        },
        "outputId": "47387af1-0de4-43ea-e009-c2f7642f0f16"
      },
      "outputs": [
        {
          "output_type": "display_data",
          "data": {
            "text/plain": [
              "VBox(children=(HTML(value='<center> <img\\nsrc=https://huggingface.co/front/assets/huggingface_logo-noborder.sv…"
            ],
            "application/vnd.jupyter.widget-view+json": {
              "version_major": 2,
              "version_minor": 0,
              "model_id": "8098bf17a6834873aef88252f33dcc12"
            }
          },
          "metadata": {}
        }
      ],
      "source": [
        "from huggingface_hub import notebook_login\n",
        "notebook_login()"
      ]
    },
    {
      "cell_type": "markdown",
      "source": [
        "If you don't want to use a Google Colab or a Jupyter Notebook, you need to use this command instead: `huggingface-cli login`"
      ],
      "metadata": {
        "id": "ew59mK19zjtN"
      }
    },
    {
      "cell_type": "markdown",
      "metadata": {
        "id": "Xi0y_VASRzJU"
      },
      "source": [
        "Then, we simply need to run `mlagents-push-to-hf`.\n",
        "\n",
        "<img src=\"https://huggingface.co/datasets/huggingface-deep-rl-course/course-images/resolve/main/en/notebooks/unit-bonus1/mlpush.png\" alt=\"ml learn function\" width=\"100%\">"
      ]
    },
    {
      "cell_type": "markdown",
      "source": [
        "And we define 4 parameters:\n",
        "\n",
        "1. `--run-id`: the name of the training run id.\n",
        "2. `--local-dir`: where the agent was saved, it’s results/<run_id name>, so in my case results/First Training.\n",
        "3. `--repo-id`: the name of the Hugging Face repo you want to create or update. It’s always <your huggingface username>/<the repo name>\n",
        "If the repo does not exist **it will be created automatically**\n",
        "4. `--commit-message`: since HF repos are git repository you need to define a commit message."
      ],
      "metadata": {
        "id": "KK4fPfnczunT"
      }
    },
    {
      "cell_type": "code",
      "execution_count": 11,
      "metadata": {
        "id": "dGEFAIboLVc6",
        "colab": {
          "base_uri": "https://localhost:8080/"
        },
        "outputId": "22590e3d-c8f7-44e9-e13c-16307c2f75ba"
      },
      "outputs": [
        {
          "output_type": "stream",
          "name": "stdout",
          "text": [
            "[INFO] This function will create a model card and upload your HuggyTraining into HuggingFace Hub. This is a work in progress: If you encounter a bug, please send open an issue\n",
            "[INFO] Pushing repo HuggyTraining to the Hugging Face Hub\n",
            "Huggy-1399982.onnx:   0% 0.00/2.27M [00:00<?, ?B/s]\n",
            "Huggy-1199890.onnx:   0% 0.00/2.27M [00:00<?, ?B/s]\u001b[A\n",
            "\n",
            "Huggy-1199890.pt:   0% 0.00/13.5M [00:00<?, ?B/s]\u001b[A\u001b[A\n",
            "\n",
            "\n",
            "Huggy-1399982.pt:   0% 0.00/13.5M [00:00<?, ?B/s]\u001b[A\u001b[A\u001b[A\n",
            "\n",
            "\n",
            "\n",
            "Upload 25 LFS files:   0% 0/25 [00:00<?, ?it/s]\u001b[A\u001b[A\u001b[A\u001b[A\n",
            "\n",
            "\n",
            "\n",
            "\n",
            "Huggy-1399982.onnx:  66% 1.51M/2.27M [00:00<00:00, 15.1MB/s]\n",
            "\n",
            "\n",
            "Huggy-1399982.pt:  37% 4.95M/13.5M [00:00<00:00, 49.5MB/s]\u001b[A\u001b[A\u001b[A\n",
            "\n",
            "Huggy-1199890.pt:  20% 2.72M/13.5M [00:00<00:00, 19.1MB/s]\u001b[A\u001b[A\n",
            "\n",
            "Huggy-1199890.pt:  34% 4.64M/13.5M [00:00<00:00, 14.0MB/s]\u001b[A\u001b[A\n",
            "\n",
            "Huggy-1199890.pt:  46% 6.28M/13.5M [00:00<00:00, 14.5MB/s]\u001b[A\u001b[A\n",
            "\n",
            "\n",
            "Huggy-1599951.onnx: 100% 2.27M/2.27M [00:00<00:00, 4.06MB/s]\n",
            "\n",
            "\n",
            "Huggy-1199890.pt:  76% 10.2M/13.5M [00:00<00:00, 17.5MB/s]\u001b[A\u001b[A\n",
            "\n",
            "Huggy-1199890.pt:  88% 11.9M/13.5M [00:00<00:00, 15.6MB/s]\u001b[A\u001b[A\n",
            "\n",
            "\n",
            "\n",
            "\n",
            "Huggy-1399982.onnx: 100% 2.27M/2.27M [00:00<00:00, 2.43MB/s]\n",
            "Huggy-1199890.onnx: 100% 2.27M/2.27M [00:00<00:00, 2.35MB/s]\n",
            "\n",
            "\n",
            "\n",
            "\n",
            "\n",
            "Huggy-1399982.pt: 100% 13.5M/13.5M [00:01<00:00, 12.5MB/s]\n",
            "\n",
            "\n",
            "\n",
            "\n",
            "\n",
            "Huggy-1799872.onnx:   0% 0.00/2.27M [00:00<?, ?B/s]\n",
            "\n",
            "\n",
            "\n",
            "Upload 25 LFS files:   4% 1/25 [00:01<00:26,  1.11s/it]\u001b[A\u001b[A\u001b[A\u001b[A\n",
            "Huggy-1199890.pt: 100% 13.5M/13.5M [00:01<00:00, 11.1MB/s]\n",
            "\n",
            "\n",
            "Huggy-199991.onnx:   0% 0.00/2.27M [00:00<?, ?B/s]\u001b[A\u001b[A\n",
            "Huggy-1799872.pt:  38% 5.13M/13.5M [00:00<00:00, 40.0MB/s]\u001b[A\n",
            "\n",
            "\n",
            "\n",
            "\n",
            "Huggy-1599951.pt:  75% 10.2M/13.5M [00:00<00:00, 18.9MB/s]\u001b[A\u001b[A\u001b[A\u001b[A\u001b[A\n",
            "\n",
            "\n",
            "\n",
            "Upload 25 LFS files:   8% 2/25 [00:01<00:14,  1.60it/s]\u001b[A\u001b[A\u001b[A\u001b[A\n",
            "\n",
            "\n",
            "Huggy-199991.onnx: 100% 2.27M/2.27M [00:00<00:00, 12.3MB/s]\n",
            "\n",
            "Huggy-1799872.pt:  69% 9.32M/13.5M [00:00<00:00, 28.9MB/s]\u001b[A\n",
            "\n",
            "\n",
            "Huggy-199991.pt:  45% 6.08M/13.5M [00:00<00:00, 58.5MB/s]\u001b[A\u001b[A\u001b[A\n",
            "\n",
            "Huggy-1999981.onnx:   0% 0.00/2.27M [00:00<?, ?B/s]\u001b[A\u001b[A\n",
            "\n",
            "\n",
            "Huggy-1599951.pt: 100% 13.5M/13.5M [00:00<00:00, 15.7MB/s]\n",
            "Huggy-1999981.onnx: 100% 2.27M/2.27M [00:00<00:00, 14.3MB/s]\n",
            "\n",
            "\n",
            "\n",
            "\n",
            "Upload 25 LFS files:  24% 6/25 [00:01<00:04,  4.46it/s]\u001b[A\u001b[A\u001b[A\u001b[A\n",
            "\n",
            "Huggy-1999981.pt:   0% 0.00/13.5M [00:00<?, ?B/s]\u001b[A\u001b[A\n",
            "Huggy-1799872.pt:  91% 12.4M/13.5M [00:00<00:00, 14.1MB/s]\u001b[A\n",
            "\n",
            "\n",
            "\n",
            "\n",
            "Huggy-1799872.onnx: 100% 2.27M/2.27M [00:00<00:00, 2.49MB/s]\n",
            "\n",
            "\n",
            "Huggy-199991.pt: 100% 13.5M/13.5M [00:00<00:00, 19.5MB/s]\n",
            "\n",
            "\n",
            "Huggy-1999981.pt:  71% 9.58M/13.5M [00:00<00:00, 33.1MB/s]\u001b[A\u001b[A\n",
            "\n",
            "\n",
            "\n",
            "Huggy-2000001.pt:   0% 0.00/13.5M [00:00<?, ?B/s]\n",
            "\n",
            "\n",
            "Huggy-399979.onnx:   0% 0.00/2.27M [00:00<?, ?B/s]\u001b[A\u001b[A\u001b[A\n",
            "\n",
            "Huggy-1799872.pt: 100% 13.5M/13.5M [00:01<00:00, 11.3MB/s]\n",
            "Huggy.onnx: 100% 2.27M/2.27M [00:00<00:00, 4.45MB/s]\n",
            "Huggy-2000001.pt:  66% 8.88M/13.5M [00:00<00:00, 28.4MB/s]\n",
            "\n",
            "\n",
            "\n",
            "Upload 25 LFS files:  32% 8/25 [00:02<00:04,  3.82it/s]\u001b[A\u001b[A\u001b[A\u001b[A\n",
            "Huggy-399979.pt:   0% 0.00/13.5M [00:00<?, ?B/s]\u001b[A\n",
            "\n",
            "\n",
            "\n",
            "\n",
            "Huggy-1999981.pt: 100% 13.5M/13.5M [00:00<00:00, 15.1MB/s]\n",
            "Huggy-599948.onnx: 100% 2.27M/2.27M [00:00<00:00, 11.0MB/s]\n",
            "Huggy-399979.pt: 100% 13.5M/13.5M [00:00<00:00, 44.4MB/s]\n",
            "Huggy-2000001.pt:  87% 11.8M/13.5M [00:00<00:00, 14.4MB/s]\n",
            "Huggy-599948.pt:   0% 0.00/13.5M [00:00<?, ?B/s]\u001b[A\n",
            "\n",
            "\n",
            "\n",
            "Upload 25 LFS files:  48% 12/25 [00:02<00:02,  5.91it/s]\u001b[A\u001b[A\u001b[A\u001b[A\n",
            "\n",
            "Huggy-799983.onnx:   0% 0.00/2.27M [00:00<?, ?B/s]\u001b[A\u001b[A\n",
            "\n",
            "\n",
            "\n",
            "\n",
            "Huggy-799983.pt:   0% 0.00/13.5M [00:00<?, ?B/s]\u001b[A\u001b[A\u001b[A\u001b[A\u001b[A\n",
            "Huggy-599948.pt:  46% 6.24M/13.5M [00:00<00:00, 40.2MB/s]\u001b[A\n",
            "\n",
            "\n",
            "\n",
            "\n",
            "Huggy-799983.onnx: 100% 2.27M/2.27M [00:00<00:00, 10.4MB/s]\n",
            "\n",
            "Huggy-399979.onnx: 100% 2.27M/2.27M [00:00<00:00, 2.47MB/s]\n",
            "\n",
            "\n",
            "\n",
            "\n",
            "\n",
            "Huggy-799983.pt:  54% 7.34M/13.5M [00:00<00:00, 30.3MB/s]\u001b[A\u001b[A\u001b[A\u001b[A\u001b[A\n",
            "\n",
            "Huggy-999922.onnx:   0% 0.00/2.27M [00:00<?, ?B/s]\u001b[A\u001b[A\n",
            "\n",
            "\n",
            "Huggy-2000001.pt: 100% 13.5M/13.5M [00:01<00:00, 11.0MB/s]\n",
            "Huggy-999922.onnx: 100% 2.27M/2.27M [00:00<00:00, 9.51MB/s]\n",
            "\n",
            "\n",
            "\n",
            "checkpoint.pt:   0% 0.00/13.5M [00:00<?, ?B/s]\n",
            "\n",
            "\n",
            "\n",
            "Upload 25 LFS files:  56% 14/25 [00:03<00:02,  4.65it/s]\u001b[A\u001b[A\u001b[A\u001b[A\n",
            "\n",
            "\n",
            "\n",
            "\n",
            "Huggy-799983.pt:  79% 10.6M/13.5M [00:00<00:00, 13.5MB/s]\u001b[A\u001b[A\u001b[A\u001b[A\u001b[A\n",
            "\n",
            "checkpoint.pt:  82% 11.0M/13.5M [00:00<00:00, 100MB/s]\n",
            "\n",
            "\n",
            "Huggy-599948.pt: 100% 13.5M/13.5M [00:00<00:00, 15.5MB/s]\n",
            "events.out.tfevents.1736520043.e3ce8a3721f7.2069.0: 100% 351k/351k [00:00<00:00, 1.80MB/s]\n",
            "\n",
            "\n",
            "\n",
            "\n",
            "Upload 25 LFS files:  72% 18/25 [00:03<00:01,  6.39it/s]\u001b[A\u001b[A\u001b[A\u001b[A\n",
            "Huggy.onnx:   0% 0.00/2.27M [00:00<?, ?B/s]\u001b[A\n",
            "\n",
            "\n",
            "checkpoint.pt: 100% 13.5M/13.5M [00:00<00:00, 28.8MB/s]\n",
            "Huggy.onnx: 100% 2.27M/2.27M [00:00<00:00, 12.1MB/s]\n",
            "Huggy-799983.pt: 100% 13.5M/13.5M [00:01<00:00, 10.9MB/s]\n",
            "\n",
            "\n",
            "\n",
            "\n",
            "Huggy-999922.pt: 100% 13.5M/13.5M [00:01<00:00, 11.6MB/s]\n",
            "\n",
            "\n",
            "\n",
            "\n",
            "Upload 25 LFS files: 100% 25/25 [00:04<00:00,  5.45it/s]\n",
            "[INFO] Your model is pushed to the hub. You can view your model here: https://huggingface.co/pankajr141/huggingface_deeprl_unit1_bonus_ppo-Huggy\n"
          ]
        }
      ],
      "source": [
        "!mlagents-push-to-hf --run-id=\"HuggyTraining\" --local-dir=\"./results/Huggy2\" --repo-id=\"pankajr141/huggingface_deeprl_unit1_bonus_ppo-Huggy\" --commit-message=\"Huggy\""
      ]
    },
    {
      "cell_type": "markdown",
      "source": [
        "Else, if everything worked you should have this at the end of the process(but with a different url 😆) :\n",
        "\n",
        "\n",
        "\n",
        "```\n",
        "Your model is pushed to the hub. You can view your model here: https://huggingface.co/ThomasSimonini/ppo-Huggy\n",
        "```\n",
        "\n",
        "It’s the link to your model repository. The repository contains a model card that explains how to use the model, your Tensorboard logs and your config file. **What’s awesome is that it’s a git repository, which means you can have different commits, update your repository with a new push, open Pull Requests, etc.**\n",
        "\n",
        "<img src=\"https://huggingface.co/datasets/huggingface-deep-rl-course/course-images/resolve/main/en/notebooks/unit-bonus1/modelcard.png\" alt=\"ml learn function\" width=\"100%\">"
      ],
      "metadata": {
        "id": "yborB0850FTM"
      }
    },
    {
      "cell_type": "markdown",
      "source": [
        "But now comes the best: **being able to play with Huggy online 👀.**"
      ],
      "metadata": {
        "id": "5Uaon2cg0NrL"
      }
    },
    {
      "cell_type": "markdown",
      "source": [
        "## Play with your Huggy 🐕\n",
        "\n",
        "This step is the simplest:\n",
        "\n",
        "- Open the game Huggy in your browser: https://huggingface.co/spaces/ThomasSimonini/Huggy\n",
        "\n",
        "- Click on Play with my Huggy model\n",
        "\n",
        "<img src=\"https://huggingface.co/datasets/huggingface-deep-rl-course/course-images/resolve/main/en/notebooks/unit-bonus1/load-huggy.jpg\" alt=\"load-huggy\" width=\"100%\">"
      ],
      "metadata": {
        "id": "VMc4oOsE0QiZ"
      }
    },
    {
      "cell_type": "markdown",
      "source": [
        "1. In step 1, type your username (your username is case sensitive: for instance, my username is ThomasSimonini not thomassimonini or ThOmasImoNInI) and click on the search button.\n",
        "2. In step 2, select your model repository.\n",
        "3. In step 3, **choose which model you want to replay**:  - I have multiple ones, since we saved a model every 500000 timesteps.\n",
        "  - But since I want the more recent, I choose `Huggy.onnx`\n",
        "\n",
        "👉 What’s nice **is to try with different models steps to see the improvement of the agent.**"
      ],
      "metadata": {
        "id": "Djs8c5rR0Z8a"
      }
    },
    {
      "cell_type": "markdown",
      "source": [
        "Congrats on finishing this bonus unit!\n",
        "\n",
        "You can now sit and enjoy playing with your Huggy 🐶. And don't **forget to spread the love by sharing Huggy with your friends 🤗**. And if you share about it on social media, **please tag us @huggingface and me @simoninithomas**\n",
        "\n",
        "<img src=\"https://huggingface.co/datasets/huggingface-deep-rl-course/course-images/resolve/main/en/notebooks/unit-bonus1/huggy-cover.jpeg\" alt=\"Huggy cover\" width=\"100%\">\n",
        "\n",
        "\n",
        "## Keep Learning, Stay  awesome 🤗"
      ],
      "metadata": {
        "id": "PI6dPWmh064H"
      }
    }
  ],
  "metadata": {
    "accelerator": "GPU",
    "colab": {
      "provenance": [],
      "gpuType": "T4",
      "include_colab_link": true
    },
    "kernelspec": {
      "display_name": "Python 3",
      "name": "python3"
    },
    "language_info": {
      "name": "python"
    },
    "widgets": {
      "application/vnd.jupyter.widget-state+json": {
        "8098bf17a6834873aef88252f33dcc12": {
          "model_module": "@jupyter-widgets/controls",
          "model_name": "VBoxModel",
          "model_module_version": "1.5.0",
          "state": {
            "_dom_classes": [],
            "_model_module": "@jupyter-widgets/controls",
            "_model_module_version": "1.5.0",
            "_model_name": "VBoxModel",
            "_view_count": null,
            "_view_module": "@jupyter-widgets/controls",
            "_view_module_version": "1.5.0",
            "_view_name": "VBoxView",
            "box_style": "",
            "children": [],
            "layout": "IPY_MODEL_f7cc790dbdd14b3b8e6eb681425e6bfc"
          }
        },
        "b0ce7d1ec836437898856eebdb497357": {
          "model_module": "@jupyter-widgets/controls",
          "model_name": "HTMLModel",
          "model_module_version": "1.5.0",
          "state": {
            "_dom_classes": [],
            "_model_module": "@jupyter-widgets/controls",
            "_model_module_version": "1.5.0",
            "_model_name": "HTMLModel",
            "_view_count": null,
            "_view_module": "@jupyter-widgets/controls",
            "_view_module_version": "1.5.0",
            "_view_name": "HTMLView",
            "description": "",
            "description_tooltip": null,
            "layout": "IPY_MODEL_4542abaeab5a4da0b903acb3f5bb372c",
            "placeholder": "​",
            "style": "IPY_MODEL_187ee5e8a6524aa9bf387de0ead73062",
            "value": "<center> <img\nsrc=https://huggingface.co/front/assets/huggingface_logo-noborder.svg\nalt='Hugging Face'> <br> Copy a token from <a\nhref=\"https://huggingface.co/settings/tokens\" target=\"_blank\">your Hugging Face\ntokens page</a> and paste it below. <br> Immediately click login after copying\nyour token or it might be stored in plain text in this notebook file. </center>"
          }
        },
        "b1c439aaddd74ee797e0c02923f74870": {
          "model_module": "@jupyter-widgets/controls",
          "model_name": "PasswordModel",
          "model_module_version": "1.5.0",
          "state": {
            "_dom_classes": [],
            "_model_module": "@jupyter-widgets/controls",
            "_model_module_version": "1.5.0",
            "_model_name": "PasswordModel",
            "_view_count": null,
            "_view_module": "@jupyter-widgets/controls",
            "_view_module_version": "1.5.0",
            "_view_name": "PasswordView",
            "continuous_update": true,
            "description": "Token:",
            "description_tooltip": null,
            "disabled": false,
            "layout": "IPY_MODEL_5e3ccc705325453cbc71dd170577a802",
            "placeholder": "​",
            "style": "IPY_MODEL_6db44b3d81ea49aa9edcb29f1e5dc481",
            "value": ""
          }
        },
        "37d3bd1bb43149899f30869458f382ee": {
          "model_module": "@jupyter-widgets/controls",
          "model_name": "CheckboxModel",
          "model_module_version": "1.5.0",
          "state": {
            "_dom_classes": [],
            "_model_module": "@jupyter-widgets/controls",
            "_model_module_version": "1.5.0",
            "_model_name": "CheckboxModel",
            "_view_count": null,
            "_view_module": "@jupyter-widgets/controls",
            "_view_module_version": "1.5.0",
            "_view_name": "CheckboxView",
            "description": "Add token as git credential?",
            "description_tooltip": null,
            "disabled": false,
            "indent": true,
            "layout": "IPY_MODEL_c83ad30504cc47798727359133c10346",
            "style": "IPY_MODEL_96614905c7eb481697ce255ba273f68a",
            "value": true
          }
        },
        "a5029c7d64cc462e9187135d779ff8cd": {
          "model_module": "@jupyter-widgets/controls",
          "model_name": "ButtonModel",
          "model_module_version": "1.5.0",
          "state": {
            "_dom_classes": [],
            "_model_module": "@jupyter-widgets/controls",
            "_model_module_version": "1.5.0",
            "_model_name": "ButtonModel",
            "_view_count": null,
            "_view_module": "@jupyter-widgets/controls",
            "_view_module_version": "1.5.0",
            "_view_name": "ButtonView",
            "button_style": "",
            "description": "Login",
            "disabled": false,
            "icon": "",
            "layout": "IPY_MODEL_bdb5b8a93e2d4364a2a9a8ff918ff49f",
            "style": "IPY_MODEL_a1b0c663634244df881f93e3e4561640",
            "tooltip": ""
          }
        },
        "1006feaba3574d38968a7491b8254f44": {
          "model_module": "@jupyter-widgets/controls",
          "model_name": "HTMLModel",
          "model_module_version": "1.5.0",
          "state": {
            "_dom_classes": [],
            "_model_module": "@jupyter-widgets/controls",
            "_model_module_version": "1.5.0",
            "_model_name": "HTMLModel",
            "_view_count": null,
            "_view_module": "@jupyter-widgets/controls",
            "_view_module_version": "1.5.0",
            "_view_name": "HTMLView",
            "description": "",
            "description_tooltip": null,
            "layout": "IPY_MODEL_fd99a52ddb8c41468347f61adef3f00f",
            "placeholder": "​",
            "style": "IPY_MODEL_9c88104224a84c2eb6dc59160bda445b",
            "value": "\n<b>Pro Tip:</b> If you don't already have one, you can create a dedicated\n'notebooks' token with 'write' access, that you can then easily reuse for all\nnotebooks. </center>"
          }
        },
        "f7cc790dbdd14b3b8e6eb681425e6bfc": {
          "model_module": "@jupyter-widgets/base",
          "model_name": "LayoutModel",
          "model_module_version": "1.2.0",
          "state": {
            "_model_module": "@jupyter-widgets/base",
            "_model_module_version": "1.2.0",
            "_model_name": "LayoutModel",
            "_view_count": null,
            "_view_module": "@jupyter-widgets/base",
            "_view_module_version": "1.2.0",
            "_view_name": "LayoutView",
            "align_content": null,
            "align_items": "center",
            "align_self": null,
            "border": null,
            "bottom": null,
            "display": "flex",
            "flex": null,
            "flex_flow": "column",
            "grid_area": null,
            "grid_auto_columns": null,
            "grid_auto_flow": null,
            "grid_auto_rows": null,
            "grid_column": null,
            "grid_gap": null,
            "grid_row": null,
            "grid_template_areas": null,
            "grid_template_columns": null,
            "grid_template_rows": null,
            "height": null,
            "justify_content": null,
            "justify_items": null,
            "left": null,
            "margin": null,
            "max_height": null,
            "max_width": null,
            "min_height": null,
            "min_width": null,
            "object_fit": null,
            "object_position": null,
            "order": null,
            "overflow": null,
            "overflow_x": null,
            "overflow_y": null,
            "padding": null,
            "right": null,
            "top": null,
            "visibility": null,
            "width": "50%"
          }
        },
        "4542abaeab5a4da0b903acb3f5bb372c": {
          "model_module": "@jupyter-widgets/base",
          "model_name": "LayoutModel",
          "model_module_version": "1.2.0",
          "state": {
            "_model_module": "@jupyter-widgets/base",
            "_model_module_version": "1.2.0",
            "_model_name": "LayoutModel",
            "_view_count": null,
            "_view_module": "@jupyter-widgets/base",
            "_view_module_version": "1.2.0",
            "_view_name": "LayoutView",
            "align_content": null,
            "align_items": null,
            "align_self": null,
            "border": null,
            "bottom": null,
            "display": null,
            "flex": null,
            "flex_flow": null,
            "grid_area": null,
            "grid_auto_columns": null,
            "grid_auto_flow": null,
            "grid_auto_rows": null,
            "grid_column": null,
            "grid_gap": null,
            "grid_row": null,
            "grid_template_areas": null,
            "grid_template_columns": null,
            "grid_template_rows": null,
            "height": null,
            "justify_content": null,
            "justify_items": null,
            "left": null,
            "margin": null,
            "max_height": null,
            "max_width": null,
            "min_height": null,
            "min_width": null,
            "object_fit": null,
            "object_position": null,
            "order": null,
            "overflow": null,
            "overflow_x": null,
            "overflow_y": null,
            "padding": null,
            "right": null,
            "top": null,
            "visibility": null,
            "width": null
          }
        },
        "187ee5e8a6524aa9bf387de0ead73062": {
          "model_module": "@jupyter-widgets/controls",
          "model_name": "DescriptionStyleModel",
          "model_module_version": "1.5.0",
          "state": {
            "_model_module": "@jupyter-widgets/controls",
            "_model_module_version": "1.5.0",
            "_model_name": "DescriptionStyleModel",
            "_view_count": null,
            "_view_module": "@jupyter-widgets/base",
            "_view_module_version": "1.2.0",
            "_view_name": "StyleView",
            "description_width": ""
          }
        },
        "5e3ccc705325453cbc71dd170577a802": {
          "model_module": "@jupyter-widgets/base",
          "model_name": "LayoutModel",
          "model_module_version": "1.2.0",
          "state": {
            "_model_module": "@jupyter-widgets/base",
            "_model_module_version": "1.2.0",
            "_model_name": "LayoutModel",
            "_view_count": null,
            "_view_module": "@jupyter-widgets/base",
            "_view_module_version": "1.2.0",
            "_view_name": "LayoutView",
            "align_content": null,
            "align_items": null,
            "align_self": null,
            "border": null,
            "bottom": null,
            "display": null,
            "flex": null,
            "flex_flow": null,
            "grid_area": null,
            "grid_auto_columns": null,
            "grid_auto_flow": null,
            "grid_auto_rows": null,
            "grid_column": null,
            "grid_gap": null,
            "grid_row": null,
            "grid_template_areas": null,
            "grid_template_columns": null,
            "grid_template_rows": null,
            "height": null,
            "justify_content": null,
            "justify_items": null,
            "left": null,
            "margin": null,
            "max_height": null,
            "max_width": null,
            "min_height": null,
            "min_width": null,
            "object_fit": null,
            "object_position": null,
            "order": null,
            "overflow": null,
            "overflow_x": null,
            "overflow_y": null,
            "padding": null,
            "right": null,
            "top": null,
            "visibility": null,
            "width": null
          }
        },
        "6db44b3d81ea49aa9edcb29f1e5dc481": {
          "model_module": "@jupyter-widgets/controls",
          "model_name": "DescriptionStyleModel",
          "model_module_version": "1.5.0",
          "state": {
            "_model_module": "@jupyter-widgets/controls",
            "_model_module_version": "1.5.0",
            "_model_name": "DescriptionStyleModel",
            "_view_count": null,
            "_view_module": "@jupyter-widgets/base",
            "_view_module_version": "1.2.0",
            "_view_name": "StyleView",
            "description_width": ""
          }
        },
        "c83ad30504cc47798727359133c10346": {
          "model_module": "@jupyter-widgets/base",
          "model_name": "LayoutModel",
          "model_module_version": "1.2.0",
          "state": {
            "_model_module": "@jupyter-widgets/base",
            "_model_module_version": "1.2.0",
            "_model_name": "LayoutModel",
            "_view_count": null,
            "_view_module": "@jupyter-widgets/base",
            "_view_module_version": "1.2.0",
            "_view_name": "LayoutView",
            "align_content": null,
            "align_items": null,
            "align_self": null,
            "border": null,
            "bottom": null,
            "display": null,
            "flex": null,
            "flex_flow": null,
            "grid_area": null,
            "grid_auto_columns": null,
            "grid_auto_flow": null,
            "grid_auto_rows": null,
            "grid_column": null,
            "grid_gap": null,
            "grid_row": null,
            "grid_template_areas": null,
            "grid_template_columns": null,
            "grid_template_rows": null,
            "height": null,
            "justify_content": null,
            "justify_items": null,
            "left": null,
            "margin": null,
            "max_height": null,
            "max_width": null,
            "min_height": null,
            "min_width": null,
            "object_fit": null,
            "object_position": null,
            "order": null,
            "overflow": null,
            "overflow_x": null,
            "overflow_y": null,
            "padding": null,
            "right": null,
            "top": null,
            "visibility": null,
            "width": null
          }
        },
        "96614905c7eb481697ce255ba273f68a": {
          "model_module": "@jupyter-widgets/controls",
          "model_name": "DescriptionStyleModel",
          "model_module_version": "1.5.0",
          "state": {
            "_model_module": "@jupyter-widgets/controls",
            "_model_module_version": "1.5.0",
            "_model_name": "DescriptionStyleModel",
            "_view_count": null,
            "_view_module": "@jupyter-widgets/base",
            "_view_module_version": "1.2.0",
            "_view_name": "StyleView",
            "description_width": ""
          }
        },
        "bdb5b8a93e2d4364a2a9a8ff918ff49f": {
          "model_module": "@jupyter-widgets/base",
          "model_name": "LayoutModel",
          "model_module_version": "1.2.0",
          "state": {
            "_model_module": "@jupyter-widgets/base",
            "_model_module_version": "1.2.0",
            "_model_name": "LayoutModel",
            "_view_count": null,
            "_view_module": "@jupyter-widgets/base",
            "_view_module_version": "1.2.0",
            "_view_name": "LayoutView",
            "align_content": null,
            "align_items": null,
            "align_self": null,
            "border": null,
            "bottom": null,
            "display": null,
            "flex": null,
            "flex_flow": null,
            "grid_area": null,
            "grid_auto_columns": null,
            "grid_auto_flow": null,
            "grid_auto_rows": null,
            "grid_column": null,
            "grid_gap": null,
            "grid_row": null,
            "grid_template_areas": null,
            "grid_template_columns": null,
            "grid_template_rows": null,
            "height": null,
            "justify_content": null,
            "justify_items": null,
            "left": null,
            "margin": null,
            "max_height": null,
            "max_width": null,
            "min_height": null,
            "min_width": null,
            "object_fit": null,
            "object_position": null,
            "order": null,
            "overflow": null,
            "overflow_x": null,
            "overflow_y": null,
            "padding": null,
            "right": null,
            "top": null,
            "visibility": null,
            "width": null
          }
        },
        "a1b0c663634244df881f93e3e4561640": {
          "model_module": "@jupyter-widgets/controls",
          "model_name": "ButtonStyleModel",
          "model_module_version": "1.5.0",
          "state": {
            "_model_module": "@jupyter-widgets/controls",
            "_model_module_version": "1.5.0",
            "_model_name": "ButtonStyleModel",
            "_view_count": null,
            "_view_module": "@jupyter-widgets/base",
            "_view_module_version": "1.2.0",
            "_view_name": "StyleView",
            "button_color": null,
            "font_weight": ""
          }
        },
        "fd99a52ddb8c41468347f61adef3f00f": {
          "model_module": "@jupyter-widgets/base",
          "model_name": "LayoutModel",
          "model_module_version": "1.2.0",
          "state": {
            "_model_module": "@jupyter-widgets/base",
            "_model_module_version": "1.2.0",
            "_model_name": "LayoutModel",
            "_view_count": null,
            "_view_module": "@jupyter-widgets/base",
            "_view_module_version": "1.2.0",
            "_view_name": "LayoutView",
            "align_content": null,
            "align_items": null,
            "align_self": null,
            "border": null,
            "bottom": null,
            "display": null,
            "flex": null,
            "flex_flow": null,
            "grid_area": null,
            "grid_auto_columns": null,
            "grid_auto_flow": null,
            "grid_auto_rows": null,
            "grid_column": null,
            "grid_gap": null,
            "grid_row": null,
            "grid_template_areas": null,
            "grid_template_columns": null,
            "grid_template_rows": null,
            "height": null,
            "justify_content": null,
            "justify_items": null,
            "left": null,
            "margin": null,
            "max_height": null,
            "max_width": null,
            "min_height": null,
            "min_width": null,
            "object_fit": null,
            "object_position": null,
            "order": null,
            "overflow": null,
            "overflow_x": null,
            "overflow_y": null,
            "padding": null,
            "right": null,
            "top": null,
            "visibility": null,
            "width": null
          }
        },
        "9c88104224a84c2eb6dc59160bda445b": {
          "model_module": "@jupyter-widgets/controls",
          "model_name": "DescriptionStyleModel",
          "model_module_version": "1.5.0",
          "state": {
            "_model_module": "@jupyter-widgets/controls",
            "_model_module_version": "1.5.0",
            "_model_name": "DescriptionStyleModel",
            "_view_count": null,
            "_view_module": "@jupyter-widgets/base",
            "_view_module_version": "1.2.0",
            "_view_name": "StyleView",
            "description_width": ""
          }
        },
        "803ca6b1a020434fbd514621f780b075": {
          "model_module": "@jupyter-widgets/controls",
          "model_name": "LabelModel",
          "model_module_version": "1.5.0",
          "state": {
            "_dom_classes": [],
            "_model_module": "@jupyter-widgets/controls",
            "_model_module_version": "1.5.0",
            "_model_name": "LabelModel",
            "_view_count": null,
            "_view_module": "@jupyter-widgets/controls",
            "_view_module_version": "1.5.0",
            "_view_name": "LabelView",
            "description": "",
            "description_tooltip": null,
            "layout": "IPY_MODEL_1fa950da69fc431eba68e48f856b2f1e",
            "placeholder": "​",
            "style": "IPY_MODEL_70f4daaeb78942998bebfcb497abc211",
            "value": "Connecting..."
          }
        },
        "1fa950da69fc431eba68e48f856b2f1e": {
          "model_module": "@jupyter-widgets/base",
          "model_name": "LayoutModel",
          "model_module_version": "1.2.0",
          "state": {
            "_model_module": "@jupyter-widgets/base",
            "_model_module_version": "1.2.0",
            "_model_name": "LayoutModel",
            "_view_count": null,
            "_view_module": "@jupyter-widgets/base",
            "_view_module_version": "1.2.0",
            "_view_name": "LayoutView",
            "align_content": null,
            "align_items": null,
            "align_self": null,
            "border": null,
            "bottom": null,
            "display": null,
            "flex": null,
            "flex_flow": null,
            "grid_area": null,
            "grid_auto_columns": null,
            "grid_auto_flow": null,
            "grid_auto_rows": null,
            "grid_column": null,
            "grid_gap": null,
            "grid_row": null,
            "grid_template_areas": null,
            "grid_template_columns": null,
            "grid_template_rows": null,
            "height": null,
            "justify_content": null,
            "justify_items": null,
            "left": null,
            "margin": null,
            "max_height": null,
            "max_width": null,
            "min_height": null,
            "min_width": null,
            "object_fit": null,
            "object_position": null,
            "order": null,
            "overflow": null,
            "overflow_x": null,
            "overflow_y": null,
            "padding": null,
            "right": null,
            "top": null,
            "visibility": null,
            "width": null
          }
        },
        "70f4daaeb78942998bebfcb497abc211": {
          "model_module": "@jupyter-widgets/controls",
          "model_name": "DescriptionStyleModel",
          "model_module_version": "1.5.0",
          "state": {
            "_model_module": "@jupyter-widgets/controls",
            "_model_module_version": "1.5.0",
            "_model_name": "DescriptionStyleModel",
            "_view_count": null,
            "_view_module": "@jupyter-widgets/base",
            "_view_module_version": "1.2.0",
            "_view_name": "StyleView",
            "description_width": ""
          }
        }
      }
    }
  },
  "nbformat": 4,
  "nbformat_minor": 0
}